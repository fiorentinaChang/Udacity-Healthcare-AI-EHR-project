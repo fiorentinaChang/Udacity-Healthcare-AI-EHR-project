{
 "cells": [
  {
   "cell_type": "markdown",
   "metadata": {},
   "source": [
    "## Project Instructions"
   ]
  },
  {
   "cell_type": "markdown",
   "metadata": {},
   "source": [
    "**Context**: EHR data is becoming a key source of real-world evidence (RWE) for the pharmaceutical industry and regulators to [make decisions on clinical trials](https://www.fda.gov/news-events/speeches-fda-officials/breaking-down-barriers-between-clinical-trials-and-clinical-care-incorporating-real-world-evidence). You are a data scientist for an exciting unicorn healthcare startup that has created a groundbreaking diabetes drug that is ready for clinical trial testing. It is a very unique and sensitive drug that requires administering the drug over at least 5-7 days of time in the hospital with frequent monitoring/testing and patient medication adherence training with a mobile application. You have been provided a patient dataset from a client partner and are tasked with building a predictive model that can identify which type of patients the company should focus their efforts testing this drug on. Target patients are people that are likely to be in the hospital for this duration of time and will not incur significant additional costs for administering this drug to the patient and monitoring.  \n",
    "\n",
    "In order to achieve your goal you must build a regression model that can predict the estimated hospitalization time for a patient and use this to select/filter patients for your study.\n"
   ]
  },
  {
   "cell_type": "markdown",
   "metadata": {},
   "source": [
    "**Expected Hospitalization Time Regression Model:** Utilizing a synthetic dataset(denormalized at the line level augmentation) built off of the UCI Diabetes readmission dataset, students will build a regression model that predicts the expected days of hospitalization time and then convert this to a binary prediction of whether to include or exclude that patient from the clinical trial.\n",
    "\n",
    "This project will demonstrate the importance of building the right data representation at the encounter level, with appropriate filtering and preprocessing/feature engineering of key medical code sets. This project will also require students to analyze and interpret their model for biases across key demographic groups. \n",
    "\n",
    "Please see the project rubric online for more details on the areas your project will be evaluated."
   ]
  },
  {
   "cell_type": "markdown",
   "metadata": {},
   "source": [
    "### Dataset"
   ]
  },
  {
   "cell_type": "markdown",
   "metadata": {},
   "source": [
    "Due to healthcare PHI regulations (HIPAA, HITECH), there are limited number of publicly available datasets and some datasets require training and approval. So, for the purpose of this exercise, we are using a dataset from UC Irvine(https://archive.ics.uci.edu/ml/datasets/Diabetes+130-US+hospitals+for+years+1999-2008) that has been modified for this course. Please note that it is limited in its representation of some key features such as diagnosis codes which are usually an unordered list in 835s/837s (the HL7 standard interchange formats used for claims and remits)."
   ]
  },
  {
   "cell_type": "markdown",
   "metadata": {},
   "source": [
    "**Data Schema**\n",
    "The dataset reference information can be https://github.com/udacity/nd320-c1-emr-data-starter/blob/master/project/data_schema_references/\n",
    ". There are two CSVs that provide more details on the fields and some of the mapped values."
   ]
  },
  {
   "cell_type": "markdown",
   "metadata": {},
   "source": [
    "## Project Submission "
   ]
  },
  {
   "cell_type": "markdown",
   "metadata": {},
   "source": [
    "When submitting this project, make sure to run all the cells before saving the notebook. Save the notebook file as \"student_project_submission.ipynb\" and save another copy as an HTML file by clicking \"File\" -> \"Download as..\"->\"html\". Include the \"utils.py\" and \"student_utils.py\" files in your submission. The student_utils.py should be where you put most of your code that you write and the summary and text explanations should be written inline in the notebook. Once you download these files, compress them into one zip file for submission."
   ]
  },
  {
   "cell_type": "markdown",
   "metadata": {},
   "source": [
    "## Prerequisites "
   ]
  },
  {
   "cell_type": "markdown",
   "metadata": {},
   "source": [
    "- Intermediate level knowledge of Python\n",
    "- Basic knowledge of probability and statistics\n",
    "- Basic knowledge of machine learning concepts\n",
    "- Installation of Tensorflow 2.0 and other dependencies(conda environment.yml or virtualenv requirements.txt file provided)"
   ]
  },
  {
   "cell_type": "markdown",
   "metadata": {},
   "source": [
    "## Environment Setup"
   ]
  },
  {
   "cell_type": "markdown",
   "metadata": {},
   "source": [
    "For step by step instructions on creating your environment, please go to https://github.com/udacity/nd320-c1-emr-data-starter/blob/master/project/README.md."
   ]
  },
  {
   "cell_type": "code",
   "execution_count": 1,
   "metadata": {},
   "outputs": [],
   "source": [
    "# from __future__ import absolute_import, division, print_function, unicode_literals\n",
    "import os\n",
    "import numpy as np\n",
    "import tensorflow as tf\n",
    "from tensorflow.keras import layers\n",
    "import tensorflow_probability as tfp\n",
    "import matplotlib.pyplot as plt\n",
    "import pandas as pd\n",
    "import aequitas as ae\n",
    "import seaborn as sns\n",
    "\n",
    "# Put all of the helper functions in utils\n",
    "from utils import build_vocab_files, show_group_stats_viz, aggregate_dataset, preprocess_df, df_to_dataset, posterior_mean_field, prior_trainable\n",
    "pd.set_option('display.max_columns', 500)\n",
    "# this allows you to make changes and save in student_utils.py and the file is reloaded every time you run a code block\n",
    "%load_ext autoreload\n",
    "%autoreload"
   ]
  },
  {
   "cell_type": "code",
   "execution_count": 2,
   "metadata": {},
   "outputs": [],
   "source": [
    "#OPEN ISSUE ON MAC OSX for TF model training\n",
    "import os\n",
    "os.environ['KMP_DUPLICATE_LIB_OK']='True'"
   ]
  },
  {
   "cell_type": "code",
   "execution_count": 3,
   "metadata": {},
   "outputs": [],
   "source": [
    "dataset_path = \"./data/final_project_dataset.csv\"\n",
    "df = pd.read_csv(dataset_path)"
   ]
  },
  {
   "cell_type": "code",
   "execution_count": 4,
   "metadata": {},
   "outputs": [
    {
     "data": {
      "text/html": [
       "<div>\n",
       "<style scoped>\n",
       "    .dataframe tbody tr th:only-of-type {\n",
       "        vertical-align: middle;\n",
       "    }\n",
       "\n",
       "    .dataframe tbody tr th {\n",
       "        vertical-align: top;\n",
       "    }\n",
       "\n",
       "    .dataframe thead th {\n",
       "        text-align: right;\n",
       "    }\n",
       "</style>\n",
       "<table border=\"1\" class=\"dataframe\">\n",
       "  <thead>\n",
       "    <tr style=\"text-align: right;\">\n",
       "      <th></th>\n",
       "      <th>encounter_id</th>\n",
       "      <th>patient_nbr</th>\n",
       "      <th>race</th>\n",
       "      <th>gender</th>\n",
       "      <th>age</th>\n",
       "      <th>weight</th>\n",
       "      <th>admission_type_id</th>\n",
       "      <th>discharge_disposition_id</th>\n",
       "      <th>admission_source_id</th>\n",
       "      <th>time_in_hospital</th>\n",
       "      <th>payer_code</th>\n",
       "      <th>medical_specialty</th>\n",
       "      <th>primary_diagnosis_code</th>\n",
       "      <th>other_diagnosis_codes</th>\n",
       "      <th>number_outpatient</th>\n",
       "      <th>number_inpatient</th>\n",
       "      <th>number_emergency</th>\n",
       "      <th>num_lab_procedures</th>\n",
       "      <th>number_diagnoses</th>\n",
       "      <th>num_medications</th>\n",
       "      <th>num_procedures</th>\n",
       "      <th>ndc_code</th>\n",
       "      <th>max_glu_serum</th>\n",
       "      <th>A1Cresult</th>\n",
       "      <th>change</th>\n",
       "      <th>readmitted</th>\n",
       "    </tr>\n",
       "  </thead>\n",
       "  <tbody>\n",
       "    <tr>\n",
       "      <th>0</th>\n",
       "      <td>2278392</td>\n",
       "      <td>8222157</td>\n",
       "      <td>Caucasian</td>\n",
       "      <td>Female</td>\n",
       "      <td>[0-10)</td>\n",
       "      <td>?</td>\n",
       "      <td>6</td>\n",
       "      <td>25</td>\n",
       "      <td>1</td>\n",
       "      <td>1</td>\n",
       "      <td>?</td>\n",
       "      <td>Pediatrics-Endocrinology</td>\n",
       "      <td>250.83</td>\n",
       "      <td>?|?</td>\n",
       "      <td>0</td>\n",
       "      <td>0</td>\n",
       "      <td>0</td>\n",
       "      <td>41</td>\n",
       "      <td>1</td>\n",
       "      <td>1</td>\n",
       "      <td>0</td>\n",
       "      <td>NaN</td>\n",
       "      <td>None</td>\n",
       "      <td>None</td>\n",
       "      <td>No</td>\n",
       "      <td>NO</td>\n",
       "    </tr>\n",
       "    <tr>\n",
       "      <th>1</th>\n",
       "      <td>149190</td>\n",
       "      <td>55629189</td>\n",
       "      <td>Caucasian</td>\n",
       "      <td>Female</td>\n",
       "      <td>[10-20)</td>\n",
       "      <td>?</td>\n",
       "      <td>1</td>\n",
       "      <td>1</td>\n",
       "      <td>7</td>\n",
       "      <td>3</td>\n",
       "      <td>?</td>\n",
       "      <td>?</td>\n",
       "      <td>276</td>\n",
       "      <td>250.01|255</td>\n",
       "      <td>0</td>\n",
       "      <td>0</td>\n",
       "      <td>0</td>\n",
       "      <td>59</td>\n",
       "      <td>9</td>\n",
       "      <td>18</td>\n",
       "      <td>0</td>\n",
       "      <td>68071-1701</td>\n",
       "      <td>None</td>\n",
       "      <td>None</td>\n",
       "      <td>Ch</td>\n",
       "      <td>&gt;30</td>\n",
       "    </tr>\n",
       "    <tr>\n",
       "      <th>2</th>\n",
       "      <td>64410</td>\n",
       "      <td>86047875</td>\n",
       "      <td>AfricanAmerican</td>\n",
       "      <td>Female</td>\n",
       "      <td>[20-30)</td>\n",
       "      <td>?</td>\n",
       "      <td>1</td>\n",
       "      <td>1</td>\n",
       "      <td>7</td>\n",
       "      <td>2</td>\n",
       "      <td>?</td>\n",
       "      <td>?</td>\n",
       "      <td>648</td>\n",
       "      <td>250|V27</td>\n",
       "      <td>2</td>\n",
       "      <td>1</td>\n",
       "      <td>0</td>\n",
       "      <td>11</td>\n",
       "      <td>6</td>\n",
       "      <td>13</td>\n",
       "      <td>5</td>\n",
       "      <td>0378-1110</td>\n",
       "      <td>None</td>\n",
       "      <td>None</td>\n",
       "      <td>No</td>\n",
       "      <td>NO</td>\n",
       "    </tr>\n",
       "    <tr>\n",
       "      <th>3</th>\n",
       "      <td>500364</td>\n",
       "      <td>82442376</td>\n",
       "      <td>Caucasian</td>\n",
       "      <td>Male</td>\n",
       "      <td>[30-40)</td>\n",
       "      <td>?</td>\n",
       "      <td>1</td>\n",
       "      <td>1</td>\n",
       "      <td>7</td>\n",
       "      <td>2</td>\n",
       "      <td>?</td>\n",
       "      <td>?</td>\n",
       "      <td>8</td>\n",
       "      <td>250.43|403</td>\n",
       "      <td>0</td>\n",
       "      <td>0</td>\n",
       "      <td>0</td>\n",
       "      <td>44</td>\n",
       "      <td>7</td>\n",
       "      <td>16</td>\n",
       "      <td>1</td>\n",
       "      <td>68071-1701</td>\n",
       "      <td>None</td>\n",
       "      <td>None</td>\n",
       "      <td>Ch</td>\n",
       "      <td>NO</td>\n",
       "    </tr>\n",
       "    <tr>\n",
       "      <th>4</th>\n",
       "      <td>16680</td>\n",
       "      <td>42519267</td>\n",
       "      <td>Caucasian</td>\n",
       "      <td>Male</td>\n",
       "      <td>[40-50)</td>\n",
       "      <td>?</td>\n",
       "      <td>1</td>\n",
       "      <td>1</td>\n",
       "      <td>7</td>\n",
       "      <td>1</td>\n",
       "      <td>?</td>\n",
       "      <td>?</td>\n",
       "      <td>197</td>\n",
       "      <td>157|250</td>\n",
       "      <td>0</td>\n",
       "      <td>0</td>\n",
       "      <td>0</td>\n",
       "      <td>51</td>\n",
       "      <td>5</td>\n",
       "      <td>8</td>\n",
       "      <td>0</td>\n",
       "      <td>0049-4110</td>\n",
       "      <td>None</td>\n",
       "      <td>None</td>\n",
       "      <td>Ch</td>\n",
       "      <td>NO</td>\n",
       "    </tr>\n",
       "  </tbody>\n",
       "</table>\n",
       "</div>"
      ],
      "text/plain": [
       "   encounter_id  patient_nbr             race  gender      age weight  \\\n",
       "0       2278392      8222157        Caucasian  Female   [0-10)      ?   \n",
       "1        149190     55629189        Caucasian  Female  [10-20)      ?   \n",
       "2         64410     86047875  AfricanAmerican  Female  [20-30)      ?   \n",
       "3        500364     82442376        Caucasian    Male  [30-40)      ?   \n",
       "4         16680     42519267        Caucasian    Male  [40-50)      ?   \n",
       "\n",
       "   admission_type_id  discharge_disposition_id  admission_source_id  \\\n",
       "0                  6                        25                    1   \n",
       "1                  1                         1                    7   \n",
       "2                  1                         1                    7   \n",
       "3                  1                         1                    7   \n",
       "4                  1                         1                    7   \n",
       "\n",
       "   time_in_hospital payer_code         medical_specialty  \\\n",
       "0                 1          ?  Pediatrics-Endocrinology   \n",
       "1                 3          ?                         ?   \n",
       "2                 2          ?                         ?   \n",
       "3                 2          ?                         ?   \n",
       "4                 1          ?                         ?   \n",
       "\n",
       "  primary_diagnosis_code other_diagnosis_codes  number_outpatient  \\\n",
       "0                 250.83                   ?|?                  0   \n",
       "1                    276            250.01|255                  0   \n",
       "2                    648               250|V27                  2   \n",
       "3                      8            250.43|403                  0   \n",
       "4                    197               157|250                  0   \n",
       "\n",
       "   number_inpatient  number_emergency  num_lab_procedures  number_diagnoses  \\\n",
       "0                 0                 0                  41                 1   \n",
       "1                 0                 0                  59                 9   \n",
       "2                 1                 0                  11                 6   \n",
       "3                 0                 0                  44                 7   \n",
       "4                 0                 0                  51                 5   \n",
       "\n",
       "   num_medications  num_procedures    ndc_code max_glu_serum A1Cresult change  \\\n",
       "0                1               0         NaN          None      None     No   \n",
       "1               18               0  68071-1701          None      None     Ch   \n",
       "2               13               5   0378-1110          None      None     No   \n",
       "3               16               1  68071-1701          None      None     Ch   \n",
       "4                8               0   0049-4110          None      None     Ch   \n",
       "\n",
       "  readmitted  \n",
       "0         NO  \n",
       "1        >30  \n",
       "2         NO  \n",
       "3         NO  \n",
       "4         NO  "
      ]
     },
     "execution_count": 4,
     "metadata": {},
     "output_type": "execute_result"
    }
   ],
   "source": [
    "df.head()"
   ]
  },
  {
   "cell_type": "code",
   "execution_count": 5,
   "metadata": {},
   "outputs": [
    {
     "data": {
      "text/plain": [
       "Index(['encounter_id', 'patient_nbr', 'race', 'gender', 'age', 'weight',\n",
       "       'admission_type_id', 'discharge_disposition_id', 'admission_source_id',\n",
       "       'time_in_hospital', 'payer_code', 'medical_specialty',\n",
       "       'primary_diagnosis_code', 'other_diagnosis_codes', 'number_outpatient',\n",
       "       'number_inpatient', 'number_emergency', 'num_lab_procedures',\n",
       "       'number_diagnoses', 'num_medications', 'num_procedures', 'ndc_code',\n",
       "       'max_glu_serum', 'A1Cresult', 'change', 'readmitted'],\n",
       "      dtype='object')"
      ]
     },
     "execution_count": 5,
     "metadata": {},
     "output_type": "execute_result"
    }
   ],
   "source": [
    "df.columns"
   ]
  },
  {
   "cell_type": "code",
   "execution_count": 6,
   "metadata": {},
   "outputs": [
    {
     "name": "stdout",
     "output_type": "stream",
     "text": [
      "encounter_id 101766\n",
      "patient_nbr 71518\n",
      "primary_diagnosis_code 717\n",
      "rows 143424\n"
     ]
    }
   ],
   "source": [
    "print(\"encounter_id\", df[\"encounter_id\"].nunique())\n",
    "print(\"patient_nbr\", df[\"patient_nbr\"].nunique())\n",
    "\n",
    "print(\"primary_diagnosis_code\", df.primary_diagnosis_code.nunique())\n",
    "print(\"rows\", df.shape[0])"
   ]
  },
  {
   "cell_type": "code",
   "execution_count": 7,
   "metadata": {},
   "outputs": [],
   "source": [
    "# there are more records than the number of encounters, therefore the dataset is at line level"
   ]
  },
  {
   "cell_type": "code",
   "execution_count": 8,
   "metadata": {},
   "outputs": [
    {
     "data": {
      "text/plain": [
       "weight                    0.970005\n",
       "max_glu_serum             0.951089\n",
       "A1Cresult                 0.820295\n",
       "medical_specialty         0.484319\n",
       "payer_code                0.377831\n",
       "ndc_code                  0.163585\n",
       "race                      0.023071\n",
       "primary_diagnosis_code    0.000230\n",
       "dtype: float64"
      ]
     },
     "execution_count": 8,
     "metadata": {},
     "output_type": "execute_result"
    }
   ],
   "source": [
    "null_df = df.copy()\n",
    "null_df = null_df.replace('?', np.nan).replace('None', np.nan)\n",
    "null_series = null_df.isnull().mean().sort_values(ascending=False)\n",
    "null_series[null_series != 0]"
   ]
  },
  {
   "cell_type": "code",
   "execution_count": 9,
   "metadata": {},
   "outputs": [],
   "source": [
    "# The columns weight, max_glu_serum, A1Cresult, medical_specialty, payer_code and ndc_code have a high amount of missing or zero values.\n",
    "\n"
   ]
  },
  {
   "cell_type": "code",
   "execution_count": 10,
   "metadata": {},
   "outputs": [
    {
     "name": "stderr",
     "output_type": "stream",
     "text": [
      "/opt/conda/lib/python3.7/site-packages/pandas/plotting/_matplotlib/tools.py:298: MatplotlibDeprecationWarning: \n",
      "The rowNum attribute was deprecated in Matplotlib 3.2 and will be removed two minor releases later. Use ax.get_subplotspec().rowspan.start instead.\n",
      "  layout[ax.rowNum, ax.colNum] = ax.get_visible()\n",
      "/opt/conda/lib/python3.7/site-packages/pandas/plotting/_matplotlib/tools.py:298: MatplotlibDeprecationWarning: \n",
      "The colNum attribute was deprecated in Matplotlib 3.2 and will be removed two minor releases later. Use ax.get_subplotspec().colspan.start instead.\n",
      "  layout[ax.rowNum, ax.colNum] = ax.get_visible()\n",
      "/opt/conda/lib/python3.7/site-packages/pandas/plotting/_matplotlib/tools.py:304: MatplotlibDeprecationWarning: \n",
      "The rowNum attribute was deprecated in Matplotlib 3.2 and will be removed two minor releases later. Use ax.get_subplotspec().rowspan.start instead.\n",
      "  if not layout[ax.rowNum + 1, ax.colNum]:\n",
      "/opt/conda/lib/python3.7/site-packages/pandas/plotting/_matplotlib/tools.py:304: MatplotlibDeprecationWarning: \n",
      "The colNum attribute was deprecated in Matplotlib 3.2 and will be removed two minor releases later. Use ax.get_subplotspec().colspan.start instead.\n",
      "  if not layout[ax.rowNum + 1, ax.colNum]:\n"
     ]
    },
    {
     "data": {
      "image/png": "[encoded data removed]",
      "text/plain": [
       "<Figure size 1080x1080 with 12 Axes>"
      ]
     },
     "metadata": {
      "needs_background": "light"
     },
     "output_type": "display_data"
    }
   ],
   "source": [
    "gauss_df = df.copy()\n",
    "del gauss_df[\"encounter_id\"]\n",
    "\n",
    "gauss_df.hist(figsize=(15,15), bins=25)\n",
    "plt.show()"
   ]
  },
  {
   "cell_type": "code",
   "execution_count": 11,
   "metadata": {},
   "outputs": [],
   "source": [
    "# The features with a gaussian distribution are num_medications, num_lab_procedures and time_in_hospital."
   ]
  },
  {
   "cell_type": "code",
   "execution_count": 12,
   "metadata": {},
   "outputs": [
    {
     "data": {
      "text/plain": [
       "other_diagnosis_codes       19374\n",
       "primary_diagnosis_code        717\n",
       "ndc_code                      251\n",
       "medical_specialty              73\n",
       "discharge_disposition_id       26\n",
       "payer_code                     18\n",
       "admission_source_id            17\n",
       "weight                         10\n",
       "age                            10\n",
       "admission_type_id               8\n",
       "race                            6\n",
       "A1Cresult                       4\n",
       "max_glu_serum                   4\n",
       "readmitted                      3\n",
       "gender                          3\n",
       "change                          2\n",
       "dtype: int64"
      ]
     },
     "execution_count": 12,
     "metadata": {},
     "output_type": "execute_result"
    }
   ],
   "source": [
    "# get the categorical columns\n",
    "cat_col = list(df.select_dtypes(['object']).columns)\n",
    "cat_col = cat_col + ['admission_type_id','discharge_disposition_id', 'admission_source_id']\n",
    "\n",
    "cat_df = df[cat_col]\n",
    "cat_df.nunique().sort_values(ascending=False)"
   ]
  },
  {
   "cell_type": "code",
   "execution_count": 13,
   "metadata": {},
   "outputs": [],
   "source": [
    "# other_diagnosis_codes: 19374\n",
    "# primary_diagnosis_code: 716\n",
    "# ndc_code: 251"
   ]
  },
  {
   "cell_type": "code",
   "execution_count": 14,
   "metadata": {},
   "outputs": [
    {
     "data": {
      "text/plain": [
       "array(['Female', 'Male', 'Unknown/Invalid'], dtype=object)"
      ]
     },
     "execution_count": 14,
     "metadata": {},
     "output_type": "execute_result"
    }
   ],
   "source": [
    "df['gender'].unique()\n"
   ]
  },
  {
   "cell_type": "code",
   "execution_count": 15,
   "metadata": {},
   "outputs": [
    {
     "data": {
      "text/plain": [
       "array(['Caucasian', 'AfricanAmerican', '?', 'Other', 'Asian', 'Hispanic'],\n",
       "      dtype=object)"
      ]
     },
     "execution_count": 15,
     "metadata": {},
     "output_type": "execute_result"
    }
   ],
   "source": [
    "df['race'].unique()"
   ]
  },
  {
   "cell_type": "code",
   "execution_count": 16,
   "metadata": {},
   "outputs": [
    {
     "data": {
      "text/plain": [
       "array(['[0-10)', '[10-20)', '[20-30)', '[30-40)', '[40-50)', '[50-60)',\n",
       "       '[60-70)', '[70-80)', '[80-90)', '[90-100)'], dtype=object)"
      ]
     },
     "execution_count": 16,
     "metadata": {},
     "output_type": "execute_result"
    }
   ],
   "source": [
    "df['age'].unique()"
   ]
  },
  {
   "cell_type": "code",
   "execution_count": 17,
   "metadata": {},
   "outputs": [
    {
     "name": "stdout",
     "output_type": "stream",
     "text": [
      "Before: 143424\n",
      "After: 143419\n",
      "Before: 143419\n",
      "After: 140113\n"
     ]
    }
   ],
   "source": [
    "# get ride of '?' in race and 'Unknown/Invalid' for gender \n",
    "\n",
    "# filter \"unkown\" so we have only patients with a valid gender value left\n",
    "print(\"Before:\", df.shape[0])\n",
    "\n",
    "is_valid = df['gender'] != \"Unknown/Invalid\"\n",
    "df = df[is_valid]\n",
    "\n",
    "print(\"After:\", df.shape[0])\n",
    "\n",
    "\n",
    "print(\"Before:\", df.shape[0])\n",
    "\n",
    "is_valid = df['race'] != \"?\"\n",
    "df = df[is_valid]\n",
    "\n",
    "print(\"After:\", df.shape[0])\n",
    "\n"
   ]
  },
  {
   "cell_type": "code",
   "execution_count": 18,
   "metadata": {},
   "outputs": [
    {
     "data": {
      "image/png": "[encoded data removed]",
      "text/plain": [
       "<Figure size 720x360 with 1 Axes>"
      ]
     },
     "metadata": {
      "needs_background": "light"
     },
     "output_type": "display_data"
    }
   ],
   "source": [
    "plt.figure(figsize=(10, 5))\n",
    "p = sns.countplot(x='age', data=df)"
   ]
  },
  {
   "cell_type": "code",
   "execution_count": 19,
   "metadata": {},
   "outputs": [
    {
     "data": {
      "text/html": [
       "<div>\n",
       "<style scoped>\n",
       "    .dataframe tbody tr th:only-of-type {\n",
       "        vertical-align: middle;\n",
       "    }\n",
       "\n",
       "    .dataframe tbody tr th {\n",
       "        vertical-align: top;\n",
       "    }\n",
       "\n",
       "    .dataframe thead th {\n",
       "        text-align: right;\n",
       "    }\n",
       "</style>\n",
       "<table border=\"1\" class=\"dataframe\">\n",
       "  <thead>\n",
       "    <tr style=\"text-align: right;\">\n",
       "      <th></th>\n",
       "      <th># Patiens</th>\n",
       "      <th>% Patiens</th>\n",
       "    </tr>\n",
       "  </thead>\n",
       "  <tbody>\n",
       "    <tr>\n",
       "      <th>[70-80)</th>\n",
       "      <td>36002</td>\n",
       "      <td>0.256950</td>\n",
       "    </tr>\n",
       "    <tr>\n",
       "      <th>[60-70)</th>\n",
       "      <td>31999</td>\n",
       "      <td>0.228380</td>\n",
       "    </tr>\n",
       "    <tr>\n",
       "      <th>[50-60)</th>\n",
       "      <td>24567</td>\n",
       "      <td>0.175337</td>\n",
       "    </tr>\n",
       "    <tr>\n",
       "      <th>[80-90)</th>\n",
       "      <td>22986</td>\n",
       "      <td>0.164053</td>\n",
       "    </tr>\n",
       "    <tr>\n",
       "      <th>[40-50)</th>\n",
       "      <td>13423</td>\n",
       "      <td>0.095801</td>\n",
       "    </tr>\n",
       "    <tr>\n",
       "      <th>[30-40)</th>\n",
       "      <td>4848</td>\n",
       "      <td>0.034601</td>\n",
       "    </tr>\n",
       "    <tr>\n",
       "      <th>[90-100)</th>\n",
       "      <td>3530</td>\n",
       "      <td>0.025194</td>\n",
       "    </tr>\n",
       "    <tr>\n",
       "      <th>[20-30)</th>\n",
       "      <td>1874</td>\n",
       "      <td>0.013375</td>\n",
       "    </tr>\n",
       "    <tr>\n",
       "      <th>[10-20)</th>\n",
       "      <td>724</td>\n",
       "      <td>0.005167</td>\n",
       "    </tr>\n",
       "    <tr>\n",
       "      <th>[0-10)</th>\n",
       "      <td>160</td>\n",
       "      <td>0.001142</td>\n",
       "    </tr>\n",
       "  </tbody>\n",
       "</table>\n",
       "</div>"
      ],
      "text/plain": [
       "          # Patiens  % Patiens\n",
       "[70-80)       36002   0.256950\n",
       "[60-70)       31999   0.228380\n",
       "[50-60)       24567   0.175337\n",
       "[80-90)       22986   0.164053\n",
       "[40-50)       13423   0.095801\n",
       "[30-40)        4848   0.034601\n",
       "[90-100)       3530   0.025194\n",
       "[20-30)        1874   0.013375\n",
       "[10-20)         724   0.005167\n",
       "[0-10)          160   0.001142"
      ]
     },
     "execution_count": 19,
     "metadata": {},
     "output_type": "execute_result"
    }
   ],
   "source": [
    "df_age = pd.DataFrame([], columns = ['# Patiens']) \n",
    "df_age[\"# Patiens\"] = df['age'].value_counts()\n",
    "df_age[\"% Patiens\"] = df['age'].value_counts(normalize=True)\n",
    "\n",
    "df_age"
   ]
  },
  {
   "cell_type": "code",
   "execution_count": 20,
   "metadata": {},
   "outputs": [
    {
     "data": {
      "text/html": [
       "<div>\n",
       "<style scoped>\n",
       "    .dataframe tbody tr th:only-of-type {\n",
       "        vertical-align: middle;\n",
       "    }\n",
       "\n",
       "    .dataframe tbody tr th {\n",
       "        vertical-align: top;\n",
       "    }\n",
       "\n",
       "    .dataframe thead th {\n",
       "        text-align: right;\n",
       "    }\n",
       "</style>\n",
       "<table border=\"1\" class=\"dataframe\">\n",
       "  <thead>\n",
       "    <tr style=\"text-align: right;\">\n",
       "      <th></th>\n",
       "      <th># Patiens</th>\n",
       "      <th>% Patiens</th>\n",
       "    </tr>\n",
       "  </thead>\n",
       "  <tbody>\n",
       "    <tr>\n",
       "      <th>Female</th>\n",
       "      <td>74548</td>\n",
       "      <td>0.532056</td>\n",
       "    </tr>\n",
       "    <tr>\n",
       "      <th>Male</th>\n",
       "      <td>65565</td>\n",
       "      <td>0.467944</td>\n",
       "    </tr>\n",
       "  </tbody>\n",
       "</table>\n",
       "</div>"
      ],
      "text/plain": [
       "        # Patiens  % Patiens\n",
       "Female      74548   0.532056\n",
       "Male        65565   0.467944"
      ]
     },
     "execution_count": 20,
     "metadata": {},
     "output_type": "execute_result"
    }
   ],
   "source": [
    "df_gender = pd.DataFrame([], columns = ['# Patiens']) \n",
    "df_gender[\"# Patiens\"] = df['gender'].value_counts()\n",
    "df_gender[\"% Patiens\"] = df['gender'].value_counts(normalize=True)\n",
    "\n",
    "df_gender"
   ]
  },
  {
   "cell_type": "code",
   "execution_count": 21,
   "metadata": {},
   "outputs": [
    {
     "data": {
      "image/png": "[encoded data removed]",
      "text/plain": [
       "<Figure size 720x360 with 1 Axes>"
      ]
     },
     "metadata": {
      "needs_background": "light"
     },
     "output_type": "display_data"
    }
   ],
   "source": [
    "plt.figure(figsize=(10, 5))\n",
    "sns.countplot(x='gender', data=df);"
   ]
  },
  {
   "cell_type": "code",
   "execution_count": 22,
   "metadata": {},
   "outputs": [
    {
     "data": {
      "image/png": "[encoded data removed]",
      "text/plain": [
       "<Figure size 864x720 with 1 Axes>"
      ]
     },
     "metadata": {
      "needs_background": "light"
     },
     "output_type": "display_data"
    }
   ],
   "source": [
    "\n",
    "# distribution across both age and gender\n",
    "plt.figure(figsize=(12, 10))\n",
    "sns.countplot(x=\"age\", hue=\"gender\", data=df);"
   ]
  },
  {
   "cell_type": "code",
   "execution_count": 23,
   "metadata": {},
   "outputs": [],
   "source": [
    "# Most of the patients are between the age group of 40-90. \n",
    "# Maximum count is 36002 (26%) for the age group 70-80\n",
    "# There are more female than male patients (53% vs. 47%)\n",
    "# Until 60 there are an equal amount of male and female patients per age group with a slightly higher number of male patients. After the age of 60 however there are always more female patients"
   ]
  },
  {
   "cell_type": "code",
   "execution_count": 24,
   "metadata": {},
   "outputs": [],
   "source": [
    "#NDC code lookup file\n",
    "ndc_code_path = \"./medication_lookup_tables/final_ndc_lookup_table\"\n",
    "ndc_code_df = pd.read_csv(ndc_code_path)"
   ]
  },
  {
   "cell_type": "code",
   "execution_count": 25,
   "metadata": {},
   "outputs": [
    {
     "data": {
      "text/html": [
       "<div>\n",
       "<style scoped>\n",
       "    .dataframe tbody tr th:only-of-type {\n",
       "        vertical-align: middle;\n",
       "    }\n",
       "\n",
       "    .dataframe tbody tr th {\n",
       "        vertical-align: top;\n",
       "    }\n",
       "\n",
       "    .dataframe thead th {\n",
       "        text-align: right;\n",
       "    }\n",
       "</style>\n",
       "<table border=\"1\" class=\"dataframe\">\n",
       "  <thead>\n",
       "    <tr style=\"text-align: right;\">\n",
       "      <th></th>\n",
       "      <th>NDC_Code</th>\n",
       "      <th>Proprietary Name</th>\n",
       "      <th>Non-proprietary Name</th>\n",
       "      <th>Dosage Form</th>\n",
       "      <th>Route Name</th>\n",
       "      <th>Company Name</th>\n",
       "      <th>Product Type</th>\n",
       "    </tr>\n",
       "  </thead>\n",
       "  <tbody>\n",
       "    <tr>\n",
       "      <th>0</th>\n",
       "      <td>0087-6060</td>\n",
       "      <td>Glucophage</td>\n",
       "      <td>Metformin Hydrochloride</td>\n",
       "      <td>Tablet, Film Coated</td>\n",
       "      <td>Oral</td>\n",
       "      <td>Bristol-myers Squibb Company</td>\n",
       "      <td>Human Prescription Drug</td>\n",
       "    </tr>\n",
       "  </tbody>\n",
       "</table>\n",
       "</div>"
      ],
      "text/plain": [
       "    NDC_Code Proprietary Name     Non-proprietary Name          Dosage Form  \\\n",
       "0  0087-6060       Glucophage  Metformin Hydrochloride  Tablet, Film Coated   \n",
       "\n",
       "  Route Name                  Company Name             Product Type  \n",
       "0       Oral  Bristol-myers Squibb Company  Human Prescription Drug  "
      ]
     },
     "execution_count": 25,
     "metadata": {},
     "output_type": "execute_result"
    }
   ],
   "source": [
    "ndc_code_df.head(1)"
   ]
  },
  {
   "cell_type": "code",
   "execution_count": 26,
   "metadata": {},
   "outputs": [],
   "source": [
    "def reduce_dimension_ndc(df, ndc_df):\n",
    "    '''\n",
    "    df: pandas dataframe, input dataset\n",
    "    ndc_df: pandas dataframe, drug code dataset used for mapping in generic names\n",
    "    return:\n",
    "        df: pandas dataframe, output dataframe with joined generic drug name\n",
    "    '''\n",
    "    return_df = df.copy()\n",
    "    return_df = return_df.merge(\n",
    "        ndc_df[['NDC_Code', 'Proprietary Name']], left_on='ndc_code', right_on='NDC_Code')\n",
    "    return_df['generic_drug_name'] = return_df['Proprietary Name']\n",
    "    del return_df[\"NDC_Code\"]\n",
    "    del return_df[\"Proprietary Name\"]\n",
    "    return return_df"
   ]
  },
  {
   "cell_type": "code",
   "execution_count": 27,
   "metadata": {},
   "outputs": [
    {
     "data": {
      "text/html": [
       "<div>\n",
       "<style scoped>\n",
       "    .dataframe tbody tr th:only-of-type {\n",
       "        vertical-align: middle;\n",
       "    }\n",
       "\n",
       "    .dataframe tbody tr th {\n",
       "        vertical-align: top;\n",
       "    }\n",
       "\n",
       "    .dataframe thead th {\n",
       "        text-align: right;\n",
       "    }\n",
       "</style>\n",
       "<table border=\"1\" class=\"dataframe\">\n",
       "  <thead>\n",
       "    <tr style=\"text-align: right;\">\n",
       "      <th></th>\n",
       "      <th>encounter_id</th>\n",
       "      <th>patient_nbr</th>\n",
       "      <th>race</th>\n",
       "      <th>gender</th>\n",
       "      <th>age</th>\n",
       "      <th>weight</th>\n",
       "      <th>admission_type_id</th>\n",
       "      <th>discharge_disposition_id</th>\n",
       "      <th>admission_source_id</th>\n",
       "      <th>time_in_hospital</th>\n",
       "      <th>payer_code</th>\n",
       "      <th>medical_specialty</th>\n",
       "      <th>primary_diagnosis_code</th>\n",
       "      <th>other_diagnosis_codes</th>\n",
       "      <th>number_outpatient</th>\n",
       "      <th>number_inpatient</th>\n",
       "      <th>number_emergency</th>\n",
       "      <th>num_lab_procedures</th>\n",
       "      <th>number_diagnoses</th>\n",
       "      <th>num_medications</th>\n",
       "      <th>num_procedures</th>\n",
       "      <th>ndc_code</th>\n",
       "      <th>max_glu_serum</th>\n",
       "      <th>A1Cresult</th>\n",
       "      <th>change</th>\n",
       "      <th>readmitted</th>\n",
       "      <th>generic_drug_name</th>\n",
       "    </tr>\n",
       "  </thead>\n",
       "  <tbody>\n",
       "    <tr>\n",
       "      <th>0</th>\n",
       "      <td>149190</td>\n",
       "      <td>55629189</td>\n",
       "      <td>Caucasian</td>\n",
       "      <td>Female</td>\n",
       "      <td>[10-20)</td>\n",
       "      <td>?</td>\n",
       "      <td>1</td>\n",
       "      <td>1</td>\n",
       "      <td>7</td>\n",
       "      <td>3</td>\n",
       "      <td>?</td>\n",
       "      <td>?</td>\n",
       "      <td>276</td>\n",
       "      <td>250.01|255</td>\n",
       "      <td>0</td>\n",
       "      <td>0</td>\n",
       "      <td>0</td>\n",
       "      <td>59</td>\n",
       "      <td>9</td>\n",
       "      <td>18</td>\n",
       "      <td>0</td>\n",
       "      <td>68071-1701</td>\n",
       "      <td>None</td>\n",
       "      <td>None</td>\n",
       "      <td>Ch</td>\n",
       "      <td>&gt;30</td>\n",
       "      <td>Novolin R</td>\n",
       "    </tr>\n",
       "  </tbody>\n",
       "</table>\n",
       "</div>"
      ],
      "text/plain": [
       "   encounter_id  patient_nbr       race  gender      age weight  \\\n",
       "0        149190     55629189  Caucasian  Female  [10-20)      ?   \n",
       "\n",
       "   admission_type_id  discharge_disposition_id  admission_source_id  \\\n",
       "0                  1                         1                    7   \n",
       "\n",
       "   time_in_hospital payer_code medical_specialty primary_diagnosis_code  \\\n",
       "0                 3          ?                 ?                    276   \n",
       "\n",
       "  other_diagnosis_codes  number_outpatient  number_inpatient  \\\n",
       "0            250.01|255                  0                 0   \n",
       "\n",
       "   number_emergency  num_lab_procedures  number_diagnoses  num_medications  \\\n",
       "0                 0                  59                 9               18   \n",
       "\n",
       "   num_procedures    ndc_code max_glu_serum A1Cresult change readmitted  \\\n",
       "0               0  68071-1701          None      None     Ch        >30   \n",
       "\n",
       "  generic_drug_name  \n",
       "0         Novolin R  "
      ]
     },
     "execution_count": 27,
     "metadata": {},
     "output_type": "execute_result"
    }
   ],
   "source": [
    "reduce_dim_df = reduce_dimension_ndc(df, ndc_code_df)\n",
    "reduce_dim_df.head(1)"
   ]
  },
  {
   "cell_type": "code",
   "execution_count": 28,
   "metadata": {},
   "outputs": [],
   "source": [
    "# Number of unique values should be less for the new output field\n",
    "assert df['ndc_code'].nunique() > reduce_dim_df['generic_drug_name'].nunique()"
   ]
  },
  {
   "cell_type": "code",
   "execution_count": 29,
   "metadata": {},
   "outputs": [],
   "source": [
    "def select_first_encounter(df):\n",
    "    '''\n",
    "    df: pandas dataframe, dataframe with all encounters\n",
    "    return:\n",
    "        - first_encounter_df: pandas dataframe, dataframe with only the first encounter for a given patient\n",
    "    '''\n",
    "    ## sort the df by encouter_id (lowest encouter_id is first)\n",
    "    df.sort_values('encounter_id')\n",
    "    ## get the first encouter for each patient\n",
    "    first_encounter_value = df.groupby('patient_nbr')['encounter_id'].head(1).values\n",
    "    ## return the filtered df with the first encouter for each patient\n",
    "    return df[df['encounter_id'].isin(first_encounter_value)]"
   ]
  },
  {
   "cell_type": "code",
   "execution_count": 30,
   "metadata": {},
   "outputs": [],
   "source": [
    "first_encounter_df = select_first_encounter(reduce_dim_df)"
   ]
  },
  {
   "cell_type": "code",
   "execution_count": 31,
   "metadata": {},
   "outputs": [
    {
     "name": "stdout",
     "output_type": "stream",
     "text": [
      "Number of unique patients:54604\n",
      "Number of unique encounters:54604\n",
      "Tests passed!!\n"
     ]
    }
   ],
   "source": [
    "# unique patients in transformed dataset\n",
    "unique_patients = first_encounter_df['patient_nbr'].nunique()\n",
    "print(\"Number of unique patients:{}\".format(unique_patients))\n",
    "\n",
    "# unique encounters in transformed dataset\n",
    "unique_encounters = first_encounter_df['encounter_id'].nunique()\n",
    "print(\"Number of unique encounters:{}\".format(unique_encounters))\n",
    "\n",
    "original_unique_patient_number = reduce_dim_df['patient_nbr'].nunique()\n",
    "# number of unique patients should be equal to the number of unique encounters and patients in the final dataset\n",
    "assert original_unique_patient_number == unique_patients\n",
    "assert original_unique_patient_number == unique_encounters\n",
    "print(\"Tests passed!!\")"
   ]
  },
  {
   "cell_type": "code",
   "execution_count": 32,
   "metadata": {},
   "outputs": [
    {
     "data": {
      "text/html": [
       "<div>\n",
       "<style scoped>\n",
       "    .dataframe tbody tr th:only-of-type {\n",
       "        vertical-align: middle;\n",
       "    }\n",
       "\n",
       "    .dataframe tbody tr th {\n",
       "        vertical-align: top;\n",
       "    }\n",
       "\n",
       "    .dataframe thead th {\n",
       "        text-align: right;\n",
       "    }\n",
       "</style>\n",
       "<table border=\"1\" class=\"dataframe\">\n",
       "  <thead>\n",
       "    <tr style=\"text-align: right;\">\n",
       "      <th></th>\n",
       "      <th>encounter_id</th>\n",
       "      <th>patient_nbr</th>\n",
       "      <th>race</th>\n",
       "      <th>gender</th>\n",
       "      <th>age</th>\n",
       "      <th>weight</th>\n",
       "      <th>admission_type_id</th>\n",
       "      <th>discharge_disposition_id</th>\n",
       "      <th>admission_source_id</th>\n",
       "      <th>time_in_hospital</th>\n",
       "      <th>payer_code</th>\n",
       "      <th>medical_specialty</th>\n",
       "      <th>primary_diagnosis_code</th>\n",
       "      <th>other_diagnosis_codes</th>\n",
       "      <th>number_outpatient</th>\n",
       "      <th>number_inpatient</th>\n",
       "      <th>number_emergency</th>\n",
       "      <th>num_lab_procedures</th>\n",
       "      <th>number_diagnoses</th>\n",
       "      <th>num_medications</th>\n",
       "      <th>num_procedures</th>\n",
       "      <th>ndc_code</th>\n",
       "      <th>max_glu_serum</th>\n",
       "      <th>A1Cresult</th>\n",
       "      <th>change</th>\n",
       "      <th>readmitted</th>\n",
       "      <th>generic_drug_name</th>\n",
       "    </tr>\n",
       "  </thead>\n",
       "  <tbody>\n",
       "    <tr>\n",
       "      <th>0</th>\n",
       "      <td>149190</td>\n",
       "      <td>55629189</td>\n",
       "      <td>Caucasian</td>\n",
       "      <td>Female</td>\n",
       "      <td>[10-20)</td>\n",
       "      <td>?</td>\n",
       "      <td>1</td>\n",
       "      <td>1</td>\n",
       "      <td>7</td>\n",
       "      <td>3</td>\n",
       "      <td>?</td>\n",
       "      <td>?</td>\n",
       "      <td>276</td>\n",
       "      <td>250.01|255</td>\n",
       "      <td>0</td>\n",
       "      <td>0</td>\n",
       "      <td>0</td>\n",
       "      <td>59</td>\n",
       "      <td>9</td>\n",
       "      <td>18</td>\n",
       "      <td>0</td>\n",
       "      <td>68071-1701</td>\n",
       "      <td>None</td>\n",
       "      <td>None</td>\n",
       "      <td>Ch</td>\n",
       "      <td>&gt;30</td>\n",
       "      <td>Novolin R</td>\n",
       "    </tr>\n",
       "  </tbody>\n",
       "</table>\n",
       "</div>"
      ],
      "text/plain": [
       "   encounter_id  patient_nbr       race  gender      age weight  \\\n",
       "0        149190     55629189  Caucasian  Female  [10-20)      ?   \n",
       "\n",
       "   admission_type_id  discharge_disposition_id  admission_source_id  \\\n",
       "0                  1                         1                    7   \n",
       "\n",
       "   time_in_hospital payer_code medical_specialty primary_diagnosis_code  \\\n",
       "0                 3          ?                 ?                    276   \n",
       "\n",
       "  other_diagnosis_codes  number_outpatient  number_inpatient  \\\n",
       "0            250.01|255                  0                 0   \n",
       "\n",
       "   number_emergency  num_lab_procedures  number_diagnoses  num_medications  \\\n",
       "0                 0                  59                 9               18   \n",
       "\n",
       "   num_procedures    ndc_code max_glu_serum A1Cresult change readmitted  \\\n",
       "0               0  68071-1701          None      None     Ch        >30   \n",
       "\n",
       "  generic_drug_name  \n",
       "0         Novolin R  "
      ]
     },
     "execution_count": 32,
     "metadata": {},
     "output_type": "execute_result"
    }
   ],
   "source": [
    "first_encounter_df.head(1)"
   ]
  },
  {
   "cell_type": "code",
   "execution_count": 57,
   "metadata": {},
   "outputs": [],
   "source": [
    "def aggregate_dataset(df, grouping_fields, drug_column):\n",
    "    # Aggregate the drug information\n",
    "    agg_df = df.groupby(grouping_fields).apply(\n",
    "        lambda x: pd.Series({\n",
    "            'generic_drug_name_array': '|'.join(x[drug_column].dropna())\n",
    "        })\n",
    "    ).reset_index()\n",
    "\n",
    "    # Pivot the drug information to wide format\n",
    "    drugs_df = df.groupby(grouping_fields).apply(\n",
    "        lambda x: pd.Series({\n",
    "            **{drug: int(drug in x[drug_column].values) for drug in ndc_col_list}\n",
    "        })\n",
    "    ).reset_index()\n",
    "\n",
    "    # Merge aggregated drug information with other columns\n",
    "    agg_drug_df = pd.merge(agg_df, drugs_df, on=grouping_fields, how='left')\n",
    "\n",
    "    # Ensure that payer_code and weight are included in the final DataFrame\n",
    "    if 'payer_code' in df.columns:\n",
    "        payer_code_df = df.groupby(grouping_fields)['payer_code'].first().reset_index()\n",
    "        agg_drug_df = pd.merge(agg_drug_df, payer_code_df, on=grouping_fields, how='left')\n",
    "\n",
    "    if 'weight' in df.columns:\n",
    "        weight_df = df.groupby(grouping_fields)['weight'].mean().reset_index()\n",
    "        agg_drug_df = pd.merge(agg_drug_df, weight_df, on=grouping_fields, how='left')\n",
    "\n",
    "    return agg_drug_df, ndc_col_list\n"
   ]
  },
  {
   "cell_type": "code",
   "execution_count": 72,
   "metadata": {},
   "outputs": [
    {
     "name": "stdout",
     "output_type": "stream",
     "text": [
      "Columns in agg_drug_df after aggregation: Index(['patient_nbr', 'encounter_id', 'generic_drug_name_array', 'Acarbose',\n",
      "       'Afrezza', 'Amaryl', 'Avandia_2MG', 'Avandia_4MG', 'Duetact',\n",
      "       'Glimepiride', 'Glipizide', 'Glipizide_And_Metformin_Hcl',\n",
      "       'Glipizide_And_Metformin_Hydrochloride', 'Glucophage', 'Glucophage_XR',\n",
      "       'Glucotrol', 'Glucotrol_XL', 'Glyburide',\n",
      "       'Glyburide_And_Metformin_Hydrochloride',\n",
      "       'Glyburide-metformin_Hydrochloride', 'Glynase', 'Glyset', 'Humulin_R',\n",
      "       'Metformin_Hcl', 'Metformin_Hydrochloride',\n",
      "       'Metformin_Hydrochloride_Extended_Release', 'Miglitol', 'Nateglinide',\n",
      "       'Novolin_R', 'Pioglitazole_And_Metformin_Hydrochloride', 'Pioglitazone',\n",
      "       'Pioglitazone_Hydrochloride_And_Glimepiride', 'Prandin', 'Repaglinide',\n",
      "       'Riomet', 'Riomet_Er', 'Starlix', 'Tolazamide', 'Tolbutamide',\n",
      "       'payer_code', 'weight'],\n",
      "      dtype='object')\n"
     ]
    }
   ],
   "source": [
    "# Verify columns\n",
    "print(\"Columns in agg_drug_df after aggregation:\", agg_drug_df.columns)\n",
    "\n"
   ]
  },
  {
   "cell_type": "code",
   "execution_count": 73,
   "metadata": {},
   "outputs": [
    {
     "name": "stdout",
     "output_type": "stream",
     "text": [
      "Payer Code Distribution:\n",
      "?     22627\n",
      "MC    16428\n",
      "HM     3018\n",
      "BC     2613\n",
      "SP     2555\n",
      "MD     1814\n",
      "CP     1470\n",
      "UN     1424\n",
      "CM     1144\n",
      "OG      563\n",
      "PO      369\n",
      "DM      293\n",
      "WC       92\n",
      "CH       87\n",
      "OT       51\n",
      "MP       31\n",
      "SI       25\n",
      "Name: payer_code, dtype: int64\n",
      "Missing Payer Code Values:\n",
      "0\n"
     ]
    }
   ],
   "source": [
    "print(\"Payer Code Distribution:\")\n",
    "print(agg_drug_df['payer_code'].value_counts())\n",
    "print(\"Missing Payer Code Values:\")\n",
    "print(agg_drug_df['payer_code'].isna().sum())"
   ]
  },
  {
   "cell_type": "code",
   "execution_count": 74,
   "metadata": {},
   "outputs": [
    {
     "name": "stdout",
     "output_type": "stream",
     "text": [
      "Weight Distribution:\n",
      "count    0.0\n",
      "mean     NaN\n",
      "std      NaN\n",
      "min      NaN\n",
      "25%      NaN\n",
      "50%      NaN\n",
      "75%      NaN\n",
      "max      NaN\n",
      "Name: weight, dtype: float64\n",
      "Missing Weight Values:\n",
      "54604\n"
     ]
    }
   ],
   "source": [
    "print(\"Weight Distribution:\")\n",
    "print(agg_drug_df['weight'].describe())\n",
    "print(\"Missing Weight Values:\")\n",
    "print(agg_drug_df['weight'].isna().sum())"
   ]
  },
  {
   "cell_type": "code",
   "execution_count": 75,
   "metadata": {},
   "outputs": [
    {
     "name": "stdout",
     "output_type": "stream",
     "text": [
      "Selected Features:\n",
      "['gender', 'age', 'race', 'Acarbose', 'Afrezza', 'Amaryl', 'Avandia_2MG', 'Avandia_4MG', 'Duetact', 'Glimepiride', 'Glipizide', 'Glipizide_And_Metformin_Hcl', 'Glipizide_And_Metformin_Hydrochloride', 'Glucophage', 'Glucophage_XR', 'Glucotrol', 'Glucotrol_XL', 'Glyburide', 'Glyburide_And_Metformin_Hydrochloride', 'Glyburide-metformin_Hydrochloride', 'Glynase', 'Glyset', 'Humulin_R', 'Metformin_Hcl', 'Metformin_Hydrochloride', 'Metformin_Hydrochloride_Extended_Release', 'Miglitol', 'Nateglinide', 'Novolin_R', 'Pioglitazole_And_Metformin_Hydrochloride', 'Pioglitazone', 'Pioglitazone_Hydrochloride_And_Glimepiride', 'Prandin', 'Repaglinide', 'Riomet', 'Riomet_Er', 'Starlix', 'Tolazamide', 'Tolbutamide']\n"
     ]
    }
   ],
   "source": [
    "# Categorical Features\n",
    "categorical_features = [\n",
    "    'gender',       # Required demographic feature\n",
    "    'age',          # Required demographic feature\n",
    "    'race'          # Required demographic feature\n",
    "]\n",
    "\n",
    "# Numerical Features\n",
    "# Excluded: weight (completely missing)\n",
    "# Exclude: payer_code (due to the high proportion of unknown values)\n",
    "\n",
    "# Drug Features\n",
    "drug_features = [\n",
    "    'Acarbose', 'Afrezza', 'Amaryl', 'Avandia_2MG', 'Avandia_4MG', 'Duetact',\n",
    "    'Glimepiride', 'Glipizide', 'Glipizide_And_Metformin_Hcl',\n",
    "    'Glipizide_And_Metformin_Hydrochloride', 'Glucophage', 'Glucophage_XR',\n",
    "    'Glucotrol', 'Glucotrol_XL', 'Glyburide',\n",
    "    'Glyburide_And_Metformin_Hydrochloride',\n",
    "    'Glyburide-metformin_Hydrochloride', 'Glynase', 'Glyset', 'Humulin_R',\n",
    "    'Metformin_Hcl', 'Metformin_Hydrochloride',\n",
    "    'Metformin_Hydrochloride_Extended_Release', 'Miglitol', 'Nateglinide',\n",
    "    'Novolin_R', 'Pioglitazole_And_Metformin_Hydrochloride', 'Pioglitazone',\n",
    "    'Pioglitazone_Hydrochloride_And_Glimepiride', 'Prandin', 'Repaglinide',\n",
    "    'Riomet', 'Riomet_Er', 'Starlix', 'Tolazamide', 'Tolbutamide'\n",
    "]\n",
    "\n",
    "# Combine into a final feature list\n",
    "selected_features = categorical_features + drug_features\n",
    "\n",
    "print(\"Selected Features:\")\n",
    "print(selected_features)"
   ]
  },
  {
   "cell_type": "code",
   "execution_count": 78,
   "metadata": {},
   "outputs": [
    {
     "name": "stdout",
     "output_type": "stream",
     "text": [
      "Data types after casting:\n",
      "encounter_id                 float64\n",
      "patient_nbr                  float64\n",
      "race                        category\n",
      "gender                      category\n",
      "age                         category\n",
      "weight                       float64\n",
      "admission_type_id            float64\n",
      "discharge_disposition_id     float64\n",
      "admission_source_id          float64\n",
      "time_in_hospital             float64\n",
      "payer_code                  category\n",
      "medical_specialty           category\n",
      "primary_diagnosis_code      category\n",
      "other_diagnosis_codes       category\n",
      "number_outpatient            float64\n",
      "number_inpatient             float64\n",
      "number_emergency             float64\n",
      "num_lab_procedures           float64\n",
      "number_diagnoses             float64\n",
      "num_medications              float64\n",
      "num_procedures               float64\n",
      "ndc_code                    category\n",
      "max_glu_serum               category\n",
      "A1Cresult                   category\n",
      "change                      category\n",
      "readmitted                  category\n",
      "generic_drug_name           category\n",
      "dtype: object\n",
      "Missing values count:\n",
      "generic_drug_name           0\n",
      "primary_diagnosis_code      0\n",
      "patient_nbr                 0\n",
      "race                        0\n",
      "gender                      0\n",
      "age                         0\n",
      "weight                      0\n",
      "admission_type_id           0\n",
      "discharge_disposition_id    0\n",
      "admission_source_id         0\n",
      "time_in_hospital            0\n",
      "payer_code                  0\n",
      "medical_specialty           0\n",
      "other_diagnosis_codes       0\n",
      "readmitted                  0\n",
      "number_outpatient           0\n",
      "number_inpatient            0\n",
      "number_emergency            0\n",
      "num_lab_procedures          0\n",
      "number_diagnoses            0\n",
      "num_medications             0\n",
      "num_procedures              0\n",
      "ndc_code                    0\n",
      "max_glu_serum               0\n",
      "A1Cresult                   0\n",
      "change                      0\n",
      "encounter_id                0\n",
      "dtype: int64\n",
      "Training set size: 51087\n",
      "Validation set size: 17133\n",
      "Test set size: 17066\n",
      "Sample training data:\n",
      "   encounter_id  patient_nbr             race  gender       age  weight  \\\n",
      "2       16680.0   42519267.0        Caucasian    Male   [40-50)     0.0   \n",
      "3       15738.0   63555939.0        Caucasian  Female  [90-100)     0.0   \n",
      "5       77076.0   92519352.0  AfricanAmerican    Male   [50-60)     0.0   \n",
      "8      358776.0  101002446.0        Caucasian    Male   [70-80)     0.0   \n",
      "9      377268.0  104672268.0        Caucasian    Male   [50-60)     0.0   \n",
      "\n",
      "   admission_type_id  discharge_disposition_id  admission_source_id  \\\n",
      "2                1.0                       1.0                  7.0   \n",
      "3                3.0                       3.0                  4.0   \n",
      "5                1.0                       1.0                  7.0   \n",
      "8                1.0                       6.0                  7.0   \n",
      "9                2.0                       1.0                  2.0   \n",
      "\n",
      "   time_in_hospital payer_code medical_specialty primary_diagnosis_code  \\\n",
      "2               1.0          ?                 ?                    197   \n",
      "3              12.0          ?  InternalMedicine                    434   \n",
      "5               4.0          ?                 ?                    410   \n",
      "8               7.0          ?                 ?                    998   \n",
      "9               1.0          ?                 ?                    996   \n",
      "\n",
      "  other_diagnosis_codes  number_outpatient  number_inpatient  \\\n",
      "2               157|250                0.0               0.0   \n",
      "3               198|486                0.0               0.0   \n",
      "5               411|414                0.0               0.0   \n",
      "8                41|414                0.0               0.0   \n",
      "9            403|250.41                0.0               0.0   \n",
      "\n",
      "   number_emergency  num_lab_procedures  number_diagnoses  num_medications  \\\n",
      "2               0.0                51.0               5.0              8.0   \n",
      "3               0.0                33.0               8.0             18.0   \n",
      "5               0.0                45.0               8.0             17.0   \n",
      "8               0.0                47.0               8.0             22.0   \n",
      "9               0.0                44.0               9.0             15.0   \n",
      "\n",
      "   num_procedures    ndc_code max_glu_serum A1Cresult change readmitted  \\\n",
      "2             0.0  68071-1701          None      None     Ch         NO   \n",
      "3             3.0  68071-1701          None      None     Ch         NO   \n",
      "5             4.0  68071-1701          None      None     Ch        <30   \n",
      "8             2.0  68071-1701          None      None     Ch         NO   \n",
      "9             1.0  68071-1701          None      None     No        >30   \n",
      "\n",
      "  generic_drug_name  \n",
      "2         Novolin R  \n",
      "3         Novolin R  \n",
      "5         Novolin R  \n",
      "8         Novolin R  \n",
      "9         Novolin R  \n",
      "Sample validation data:\n",
      "    encounter_id  patient_nbr             race  gender      age  weight  \\\n",
      "0       149190.0   55629189.0        Caucasian  Female  [10-20)     0.0   \n",
      "4        28236.0   89869032.0  AfricanAmerican  Female  [40-50)     0.0   \n",
      "23      922080.0   22655295.0        Caucasian    Male  [60-70)     0.0   \n",
      "31     1194678.0   22997880.0  AfricanAmerican  Female  [60-70)     0.0   \n",
      "38     1810752.0    6915888.0        Caucasian    Male  [70-80)     0.0   \n",
      "\n",
      "    admission_type_id  discharge_disposition_id  admission_source_id  \\\n",
      "0                 1.0                       1.0                  7.0   \n",
      "4                 1.0                       1.0                  7.0   \n",
      "23                2.0                       1.0                  4.0   \n",
      "31                1.0                       6.0                  7.0   \n",
      "38                1.0                       3.0                  7.0   \n",
      "\n",
      "    time_in_hospital payer_code medical_specialty primary_diagnosis_code  \\\n",
      "0                3.0          ?                 ?                    276   \n",
      "4                9.0          ?                 ?                  250.7   \n",
      "23               4.0          ?                 ?                    440   \n",
      "31               6.0          ?                 ?                    403   \n",
      "38              14.0          ?        Cardiology                    434   \n",
      "\n",
      "   other_diagnosis_codes  number_outpatient  number_inpatient  \\\n",
      "0             250.01|255                0.0               0.0   \n",
      "4                403|996                0.0               0.0   \n",
      "23            250.03|582                0.0               0.0   \n",
      "31               535|531                0.0               0.0   \n",
      "38           250.6|250.7                0.0               0.0   \n",
      "\n",
      "    number_emergency  num_lab_procedures  number_diagnoses  num_medications  \\\n",
      "0                0.0                59.0               9.0             18.0   \n",
      "4                0.0                47.0               9.0             17.0   \n",
      "23               0.0                31.0               7.0             14.0   \n",
      "31               0.0                65.0               9.0             18.0   \n",
      "38               0.0                78.0               8.0             19.0   \n",
      "\n",
      "    num_procedures    ndc_code max_glu_serum A1Cresult change readmitted  \\\n",
      "0              0.0  68071-1701          None      None     Ch        >30   \n",
      "4              2.0  68071-1701          None      None     No        >30   \n",
      "23             0.0  68071-1701          None      None     No        >30   \n",
      "31             3.0  68071-1701          None      None     No        >30   \n",
      "38             1.0  68071-1701          None      Norm     Ch        <30   \n",
      "\n",
      "   generic_drug_name  \n",
      "0          Novolin R  \n",
      "4          Novolin R  \n",
      "23         Novolin R  \n",
      "31         Novolin R  \n",
      "38         Novolin R  \n",
      "Sample testing data:\n",
      "    encounter_id  patient_nbr       race  gender      age  weight  \\\n",
      "1       500364.0   82442376.0  Caucasian    Male  [30-40)     0.0   \n",
      "6       248916.0  115196778.0  Caucasian  Female  [50-60)     0.0   \n",
      "7       325866.0   98427861.0  Caucasian  Female  [70-80)     0.0   \n",
      "11      419304.0   99715041.0  Caucasian    Male  [40-50)     0.0   \n",
      "13      464994.0  106936875.0  Caucasian  Female  [40-50)     0.0   \n",
      "\n",
      "    admission_type_id  discharge_disposition_id  admission_source_id  \\\n",
      "1                 1.0                       1.0                  7.0   \n",
      "6                 1.0                       1.0                  1.0   \n",
      "7                 3.0                       1.0                  2.0   \n",
      "11                2.0                       1.0                  2.0   \n",
      "13                3.0                       1.0                  2.0   \n",
      "\n",
      "    time_in_hospital payer_code medical_specialty primary_diagnosis_code  \\\n",
      "1                2.0          ?                 ?                      8   \n",
      "6                2.0          ?   Surgery-General                    996   \n",
      "7                3.0          ?                 ?                    174   \n",
      "11               7.0          ?                 ?                    511   \n",
      "13               2.0          ?                 ?                    626   \n",
      "\n",
      "   other_diagnosis_codes  number_outpatient  number_inpatient  \\\n",
      "1             250.43|403                0.0               0.0   \n",
      "6             585|250.01                0.0               0.0   \n",
      "7                135|250                0.0               0.0   \n",
      "11               571|585                0.0               0.0   \n",
      "13            250.01|998                0.0               0.0   \n",
      "\n",
      "    number_emergency  num_lab_procedures  number_diagnoses  num_medications  \\\n",
      "1                0.0                44.0               7.0             16.0   \n",
      "6                0.0                25.0               3.0             11.0   \n",
      "7                0.0                33.0               5.0              8.0   \n",
      "11               0.0                36.0               5.0              9.0   \n",
      "13               0.0                10.0               5.0              8.0   \n",
      "\n",
      "    num_procedures    ndc_code max_glu_serum A1Cresult change readmitted  \\\n",
      "1              1.0  68071-1701          None      None     Ch         NO   \n",
      "6              2.0  68071-1701          None      None     No        >30   \n",
      "7              1.0  68071-1701          None      None     No         NO   \n",
      "11             2.0  68071-1701          None      None     No        >30   \n",
      "13             3.0  68071-1701          None      None     No         NO   \n",
      "\n",
      "   generic_drug_name  \n",
      "1          Novolin R  \n",
      "6          Novolin R  \n",
      "7          Novolin R  \n",
      "11         Novolin R  \n",
      "13         Novolin R  \n"
     ]
    }
   ],
   "source": [
    "# Ensure correct data types\n",
    "def cast_and_impute(df):\n",
    "    # Cast columns to appropriate data types\n",
    "    df = df.copy()\n",
    "\n",
    "    # Cast categorical columns to 'category' type\n",
    "    cat_columns = df.select_dtypes(include=['object']).columns\n",
    "    for col in cat_columns:\n",
    "        df[col] = df[col].astype('category')\n",
    "\n",
    "    # Cast numerical columns to 'float' (or 'int' if appropriate)\n",
    "    num_columns = df.select_dtypes(include=['float64', 'int64']).columns\n",
    "    df[num_columns] = df[num_columns].astype('float')  # Cast numerical columns to float for imputation\n",
    "\n",
    "    # Impute missing values for numerical features with zero\n",
    "    df[num_columns] = df[num_columns].fillna(0)\n",
    "\n",
    "    return df\n",
    "\n",
    "# Apply the casting and imputation\n",
    "first_encounter_df = cast_and_impute(first_encounter_df)\n",
    "\n",
    "# Verify data types and missing values\n",
    "print(\"Data types after casting:\")\n",
    "print(first_encounter_df.dtypes)\n",
    "\n",
    "print(\"Missing values count:\")\n",
    "print(first_encounter_df.isnull().sum().sort_values(ascending=False))\n",
    "\n",
    "from sklearn.model_selection import train_test_split\n",
    "\n",
    "def split_data(df, train_size=0.6, val_size=0.2, test_size=0.2, random_state=42):\n",
    "    \"\"\"\n",
    "    Splits the dataset into train, validation, and test sets ensuring that a patient's data does not leak across partitions.\n",
    "\n",
    "    Args:\n",
    "    df (pd.DataFrame): The input dataframe.\n",
    "    train_size (float): Proportion of data to be used for training.\n",
    "    val_size (float): Proportion of data to be used for validation.\n",
    "    test_size (float): Proportion of data to be used for testing.\n",
    "    random_state (int): Seed for random number generator.\n",
    "\n",
    "    Returns:\n",
    "    tuple: Three DataFrames (train_df, val_df, test_df)\n",
    "    \"\"\"\n",
    "\n",
    "    # Get unique patients\n",
    "    unique_patients = df['patient_nbr'].unique()\n",
    "    \n",
    "    # Split patients into train and test sets\n",
    "    train_patients, temp_patients = train_test_split(unique_patients, \n",
    "                                                    train_size=train_size, \n",
    "                                                    random_state=random_state, \n",
    "                                                    shuffle=True)\n",
    "    \n",
    "    # Split remaining patients into validation and test sets\n",
    "    val_patients, test_patients = train_test_split(temp_patients, \n",
    "                                                  test_size=test_size / (val_size + test_size), \n",
    "                                                  random_state=random_state, \n",
    "                                                  shuffle=True)\n",
    "    \n",
    "    # Create train, validation, and test sets based on patients\n",
    "    train_df = df[df['patient_nbr'].isin(train_patients)]\n",
    "    val_df = df[df['patient_nbr'].isin(val_patients)]\n",
    "    test_df = df[df['patient_nbr'].isin(test_patients)]\n",
    "    \n",
    "    # Verify that patients are not leaking across partitions\n",
    "    assert len(set(train_df['patient_nbr']).intersection(val_df['patient_nbr'])) == 0\n",
    "    assert len(set(train_df['patient_nbr']).intersection(test_df['patient_nbr'])) == 0\n",
    "    assert len(set(val_df['patient_nbr']).intersection(test_df['patient_nbr'])) == 0\n",
    "    \n",
    "    # Verify that the number of unique patients and rows is consistent\n",
    "    total_patients = len(unique_patients)\n",
    "    assert len(train_df['patient_nbr'].unique()) + len(val_df['patient_nbr'].unique()) + len(test_df['patient_nbr'].unique()) == total_patients\n",
    "    assert len(df) == len(train_df) + len(val_df) + len(test_df)\n",
    "    \n",
    "    print(f\"Training set size: {len(train_df)}\")\n",
    "    print(f\"Validation set size: {len(val_df)}\")\n",
    "    print(f\"Test set size: {len(test_df)}\")\n",
    "    \n",
    "    return train_df, val_df, test_df\n",
    "\n",
    "# Apply the split\n",
    "train_df, val_df, test_df = split_data(first_encounter_df)\n",
    "\n",
    "# Sample output\n",
    "print(\"Sample training data:\")\n",
    "print(train_df.head())\n",
    "\n",
    "print(\"Sample validation data:\")\n",
    "print(val_df.head())\n",
    "\n",
    "print(\"Sample testing data:\")\n",
    "print(test_df.head())\n"
   ]
  },
  {
   "cell_type": "code",
   "execution_count": 80,
   "metadata": {},
   "outputs": [
    {
     "name": "stdout",
     "output_type": "stream",
     "text": [
      "Visualizing Training Set...\n",
      "age       gender  race           \n",
      "[0-10)    Female  AfricanAmerican      3\n",
      "                  Asian                1\n",
      "                  Caucasian           30\n",
      "                  Hispanic             0\n",
      "                  Other                0\n",
      "                                    ... \n",
      "[90-100)  Male    AfricanAmerican     36\n",
      "                  Asian                1\n",
      "                  Caucasian          322\n",
      "                  Hispanic             2\n",
      "                  Other                5\n",
      "Length: 100, dtype: int64\n",
      "AxesSubplot(0.125,0.125;0.775x0.755)\n",
      "Visualizing Validation Set...\n",
      "age       gender  race           \n",
      "[0-10)    Female  AfricanAmerican      3\n",
      "                  Asian                0\n",
      "                  Caucasian           18\n",
      "                  Hispanic             1\n",
      "                  Other                0\n",
      "                                    ... \n",
      "[90-100)  Male    AfricanAmerican      7\n",
      "                  Asian                1\n",
      "                  Caucasian          112\n",
      "                  Hispanic             0\n",
      "                  Other                2\n",
      "Length: 100, dtype: int64\n",
      "AxesSubplot(0.125,0.125;0.775x0.755)\n",
      "Visualizing Test Set...\n",
      "age       gender  race           \n",
      "[0-10)    Female  AfricanAmerican      1\n",
      "                  Asian                0\n",
      "                  Caucasian           13\n",
      "                  Hispanic             0\n",
      "                  Other                0\n",
      "                                    ... \n",
      "[90-100)  Male    AfricanAmerican      3\n",
      "                  Asian                0\n",
      "                  Caucasian          103\n",
      "                  Hispanic             2\n",
      "                  Other                0\n",
      "Length: 100, dtype: int64\n",
      "AxesSubplot(0.125,0.125;0.775x0.755)\n"
     ]
    },
    {
     "data": {
      "image/png": "[encoded data removed]",
      "text/plain": [
       "<Figure size 432x288 with 1 Axes>"
      ]
     },
     "metadata": {
      "needs_background": "light"
     },
     "output_type": "display_data"
    }
   ],
   "source": [
    "# Function to visualize distributions of key features\n",
    "def visualize_distributions(df, group_columns, title_prefix=\"\"):\n",
    "    \"\"\"\n",
    "    Visualizes the distribution of key features across the DataFrame.\n",
    "\n",
    "    Args:\n",
    "    df (pandas.DataFrame): DataFrame to visualize.\n",
    "    group_columns (list): List of columns to group and visualize.\n",
    "    title_prefix (str): Prefix for the plot titles.\n",
    "    \"\"\"\n",
    "    # Call show_group_stats_viz directly with the correct parameters\n",
    "    show_group_stats_viz(df, group_columns)\n",
    "\n",
    "# Define the key features/groups to analyze\n",
    "key_features = ['age', 'gender', 'race']\n",
    "\n",
    "# List of dataframes and their names to visualize\n",
    "dfs = [train_df, val_df, test_df]\n",
    "df_names = ['Training Set', 'Validation Set', 'Test Set']\n",
    "\n",
    "# Visualize distributions for each partition\n",
    "for df, name in zip(dfs, df_names):\n",
    "    print(f\"Visualizing {name}...\")\n",
    "    visualize_distributions(df, key_features, title_prefix=name)\n",
    "\n"
   ]
  },
  {
   "cell_type": "markdown",
   "metadata": {},
   "source": [
    "### Label Distribution Across Partitions"
   ]
  },
  {
   "cell_type": "markdown",
   "metadata": {},
   "source": [
    "Below you can see the distributution of the label across your splits. Are the histogram distribution shapes similar across partitions?"
   ]
  },
  {
   "cell_type": "code",
   "execution_count": 101,
   "metadata": {},
   "outputs": [],
   "source": [
    "import seaborn as sns\n",
    "import matplotlib.pyplot as plt\n",
    "\n",
    "def show_group_stats_viz(df, key_features):\n",
    "    \"\"\"\n",
    "    Visualizes the distribution of a key_features across different groups.\n",
    "\n",
    "    Args:\n",
    "    df (pandas.DataFrame): DataFrame to visualize.\n",
    "    key_features (str): The field to visualize.\n",
    "    \"\"\"\n",
    "    plt.figure(figsize=(12, 6))\n",
    "    \n",
    "    # Create a countplot to visualize the distribution of the predictor field\n",
    "    sns.countplot(data=df, x=key_features, palette='viridis')\n",
    "    \n",
    "    plt.title(f'Distribution of {key_features}')\n",
    "    plt.xlabel(key_features)\n",
    "    plt.ylabel('Count')\n",
    "    plt.xticks(rotation=45)\n",
    "    plt.tight_layout()\n",
    "    plt.show()\n"
   ]
  },
  {
   "cell_type": "code",
   "execution_count": 98,
   "metadata": {
    "scrolled": false
   },
   "outputs": [
    {
     "name": "stdout",
     "output_type": "stream",
     "text": [
      "Visualizing Training Set...\n",
      "Visualizing distribution for age...\n"
     ]
    },
    {
     "data": {
      "image/png": "[encoded data removed]",
      "text/plain": [
       "<Figure size 864x432 with 1 Axes>"
      ]
     },
     "metadata": {
      "needs_background": "light"
     },
     "output_type": "display_data"
    },
    {
     "name": "stdout",
     "output_type": "stream",
     "text": [
      "Visualizing distribution for gender...\n"
     ]
    },
    {
     "data": {
      "image/png": "[encoded data removed]",
      "text/plain": [
       "<Figure size 864x432 with 1 Axes>"
      ]
     },
     "metadata": {
      "needs_background": "light"
     },
     "output_type": "display_data"
    },
    {
     "name": "stdout",
     "output_type": "stream",
     "text": [
      "Visualizing distribution for race...\n"
     ]
    },
    {
     "data": {
      "image/png": "[encoded data removed]",
      "text/plain": [
       "<Figure size 864x432 with 1 Axes>"
      ]
     },
     "metadata": {
      "needs_background": "light"
     },
     "output_type": "display_data"
    },
    {
     "name": "stdout",
     "output_type": "stream",
     "text": [
      "Visualizing Validation Set...\n",
      "Visualizing distribution for age...\n"
     ]
    },
    {
     "data": {
      "image/png": "[encoded data removed]",
      "text/plain": [
       "<Figure size 864x432 with 1 Axes>"
      ]
     },
     "metadata": {
      "needs_background": "light"
     },
     "output_type": "display_data"
    },
    {
     "name": "stdout",
     "output_type": "stream",
     "text": [
      "Visualizing distribution for gender...\n"
     ]
    },
    {
     "data": {
      "image/png": "[encoded data removed]",
      "text/plain": [
       "<Figure size 864x432 with 1 Axes>"
      ]
     },
     "metadata": {
      "needs_background": "light"
     },
     "output_type": "display_data"
    },
    {
     "name": "stdout",
     "output_type": "stream",
     "text": [
      "Visualizing distribution for race...\n"
     ]
    },
    {
     "data": {
      "image/png": "[encoded data removed]",
      "text/plain": [
       "<Figure size 864x432 with 1 Axes>"
      ]
     },
     "metadata": {
      "needs_background": "light"
     },
     "output_type": "display_data"
    },
    {
     "name": "stdout",
     "output_type": "stream",
     "text": [
      "Visualizing Test Set...\n",
      "Visualizing distribution for age...\n"
     ]
    },
    {
     "data": {
      "image/png": "[encoded data removed]",
      "text/plain": [
       "<Figure size 864x432 with 1 Axes>"
      ]
     },
     "metadata": {
      "needs_background": "light"
     },
     "output_type": "display_data"
    },
    {
     "name": "stdout",
     "output_type": "stream",
     "text": [
      "Visualizing distribution for gender...\n"
     ]
    },
    {
     "data": {
      "image/png": "[encoded data removed]",
      "text/plain": [
       "<Figure size 864x432 with 1 Axes>"
      ]
     },
     "metadata": {
      "needs_background": "light"
     },
     "output_type": "display_data"
    },
    {
     "name": "stdout",
     "output_type": "stream",
     "text": [
      "Visualizing distribution for race...\n"
     ]
    },
    {
     "data": {
      "image/png": "[encoded data removed]",
      "text/plain": [
       "<Figure size 864x432 with 1 Axes>"
      ]
     },
     "metadata": {
      "needs_background": "light"
     },
     "output_type": "display_data"
    }
   ],
   "source": [
    "def visualize_distributions(df, group_columns, title_prefix=\"\"):\n",
    "    \"\"\"\n",
    "    Visualizes the distribution of key features across the DataFrame.\n",
    "\n",
    "    Args:\n",
    "    df (pandas.DataFrame): DataFrame to visualize.\n",
    "    group_columns (list): List of columns to group and visualize.\n",
    "    title_prefix (str): Prefix for the plot titles.\n",
    "    \"\"\"\n",
    "    for column in group_columns:\n",
    "        print(f\"Visualizing distribution for {column}...\")\n",
    "        show_group_stats_viz(df, column)\n",
    "\n",
    "# Define the key features/groups to analyze\n",
    "key_features = ['age', 'gender', 'race']\n",
    "\n",
    "# List of dataframes and their names to visualize\n",
    "dfs = [train_df, val_df, test_df]\n",
    "df_names = ['Training Set', 'Validation Set', 'Test Set']\n",
    "\n",
    "# Visualize distributions for each partition\n",
    "for df, name in zip(dfs, df_names):\n",
    "    print(f\"Visualizing {name}...\")\n",
    "    visualize_distributions(df, key_features)\n"
   ]
  },
  {
   "cell_type": "code",
   "execution_count": null,
   "metadata": {},
   "outputs": [],
   "source": []
  },
  {
   "cell_type": "code",
   "execution_count": null,
   "metadata": {},
   "outputs": [],
   "source": []
  },
  {
   "cell_type": "code",
   "execution_count": 102,
   "metadata": {},
   "outputs": [],
   "source": [
    "def df_to_dataset(df, key_features, batch_size=128, shuffle=True):\n",
    "    \"\"\"\n",
    "    Convert a pandas dataframe to a TensorFlow dataset.\n",
    "\n",
    "    Args:\n",
    "        df (pd.DataFrame): DataFrame to convert.\n",
    "        key_features (str): Name of the predictor field.\n",
    "        batch_size (int): Batch size for the dataset.\n",
    "        shuffle (bool): Whether to shuffle the dataset.\n",
    "\n",
    "    Returns:\n",
    "        tf.data.Dataset: TensorFlow Dataset.\n",
    "    \"\"\"\n",
    "    df = df.copy()\n",
    "    # Convert pandas DataFrame to TensorFlow Dataset\n",
    "    dataset = tf.data.Dataset.from_tensor_slices(({\n",
    "        col: df[col].values for col in df.columns if col != key_features\n",
    "    }, df[key_features].values))\n",
    "    \n",
    "    if shuffle:\n",
    "        dataset = dataset.shuffle(buffer_size=len(df))\n",
    "    \n",
    "    dataset = dataset.batch(batch_size)\n",
    "    return dataset\n"
   ]
  },
  {
   "cell_type": "code",
   "execution_count": 106,
   "metadata": {},
   "outputs": [],
   "source": [
    "batch_size = 128\n",
    "\n",
    "diabetes_train_ds = df_to_dataset(train_df, key_features, batch_size=batch_size)\n",
    "diabetes_val_ds = df_to_dataset(val_df, key_features, batch_size=batch_size)\n",
    "diabetes_test_ds = df_to_dataset(test_df, key_features, batch_size=batch_size)\n",
    "\n",
    "# Sample a batch to verify\n",
    "diabetes_batch = next(iter(diabetes_train_ds))\n",
    "\n"
   ]
  },
  {
   "cell_type": "markdown",
   "metadata": {},
   "source": [
    "## Convert Dataset Splits to TF Dataset"
   ]
  },
  {
   "cell_type": "markdown",
   "metadata": {},
   "source": [
    "# 4. Create Categorical Features with TF Feature Columns"
   ]
  },
  {
   "cell_type": "markdown",
   "metadata": {},
   "source": [
    "## Build Vocabulary for Categorical Features"
   ]
  },
  {
   "cell_type": "markdown",
   "metadata": {},
   "source": [
    "## Create Categorical Features with Tensorflow Feature Column API"
   ]
  },
  {
   "cell_type": "markdown",
   "metadata": {},
   "source": [
    "# 5. Create Numerical Features with TF Feature Columns"
   ]
  },
  {
   "cell_type": "markdown",
   "metadata": {},
   "source": [
    "# 6. Build Deep Learning Regression Model with Sequential API and TF Probability Layers"
   ]
  },
  {
   "cell_type": "markdown",
   "metadata": {},
   "source": [
    "## Use DenseFeatures to combine features for model"
   ]
  },
  {
   "cell_type": "markdown",
   "metadata": {},
   "source": [
    "## Build Sequential API Model from DenseFeatures and TF Probability Layers"
   ]
  },
  {
   "cell_type": "markdown",
   "metadata": {},
   "source": [
    "## Show Model Uncertainty Range with TF Probability"
   ]
  },
  {
   "cell_type": "markdown",
   "metadata": {},
   "source": [
    "## Show Prediction Output "
   ]
  },
  {
   "cell_type": "markdown",
   "metadata": {},
   "source": [
    "## Convert Regression Output to Classification Output for Patient Selection"
   ]
  },
  {
   "cell_type": "markdown",
   "metadata": {},
   "source": [
    "### Add Binary Prediction to Test Dataframe"
   ]
  },
  {
   "cell_type": "markdown",
   "metadata": {},
   "source": [
    "## Model Evaluation Metrics "
   ]
  },
  {
   "cell_type": "markdown",
   "metadata": {},
   "source": [
    "# 7. Evaluating Potential Model Biases with Aequitas Toolkit"
   ]
  },
  {
   "cell_type": "markdown",
   "metadata": {},
   "source": [
    "## Prepare Data For Aequitas Bias Toolkit "
   ]
  },
  {
   "cell_type": "markdown",
   "metadata": {},
   "source": [
    "## Reference Group Selection"
   ]
  },
  {
   "cell_type": "markdown",
   "metadata": {},
   "source": [
    "## Race and Gender Bias Analysis for Patient Selection"
   ]
  },
  {
   "cell_type": "markdown",
   "metadata": {},
   "source": [
    "## Fairness Analysis Example - Relative to a Reference Group "
   ]
  }
 ],
 "metadata": {
  "kernelspec": {
   "display_name": "Python 3",
   "language": "python",
   "name": "python3"
  },
  "language_info": {
   "codemirror_mode": {
    "name": "ipython",
    "version": 3
   },
   "file_extension": ".py",
   "mimetype": "text/x-python",
   "name": "python",
   "nbconvert_exporter": "python",
   "pygments_lexer": "ipython3",
   "version": "3.7.6"
  }
 },
 "nbformat": 4,
 "nbformat_minor": 2
}
